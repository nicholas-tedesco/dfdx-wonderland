{
 "cells": [
  {
   "cell_type": "markdown",
   "id": "f1e7cd6f",
   "metadata": {},
   "source": [
    "# **Differentiable Wonderland: Chapter 5**\n",
    "goal: reinforce material from Chapter 5 of Alice's Adventures in a Differentiable Wonderland by implementing PyTorch machine learning workflows. \n",
    "- CIFAR10 Image Classifier from Deep Learning with PyTorch: A 60 Minute Blitz\n",
    "- [choose HuggingFace dataset here]"
   ]
  },
  {
   "cell_type": "markdown",
   "id": "87065484",
   "metadata": {},
   "source": [
    "## **Part 1: Replicating a PyTorch Workflow**\n",
    "\n",
    "[Deep Learning with PyTorch: A 60 Minute Blitz](https://docs.pytorch.org/tutorials/beginner/deep_learning_60min_blitz.html)"
   ]
  },
  {
   "cell_type": "code",
   "execution_count": 58,
   "id": "7eb55794",
   "metadata": {},
   "outputs": [],
   "source": [
    "import torch\n",
    "from torch import nn \n",
    "import torch.nn.functional as F \n",
    "import numpy as np\n",
    "\n",
    "import torchvision\n",
    "from torchvision.models import resnet18, ResNet18_Weights\n",
    "import torchvision.transforms as transforms\n",
    "\n",
    "import matplotlib.pyplot as plt "
   ]
  },
  {
   "cell_type": "markdown",
   "id": "6cf6ef2a",
   "metadata": {},
   "source": [
    "#### **Tensors**\n",
    "\n",
    "In mathematics, a tensor refers to an n-dimensional array. Tensors are the general term for mathematical objects such as scalars, vectors, matrices, and any higher-dimensional object. Tensors are the fundamental unit within PyTorch - they are similar to the `np.ndarray`, but can also run on GPUs or other specialized hardware to accelerate computing."
   ]
  },
  {
   "cell_type": "code",
   "execution_count": 13,
   "id": "06e9d759",
   "metadata": {},
   "outputs": [],
   "source": [
    "## tensors can be initialized in one of many ways \n",
    "data = [[0, 1, 2], [3, 4, 5]]\n",
    "tensor_data = torch.tensor(data, dtype=torch.int)\n",
    "\n",
    "np_data = np.array([[1.0, 2.3], [4.5, 6.7]])\n",
    "tensor_np_data = torch.tensor(np_data, dtype=torch.float)\n",
    "\n",
    "my_shape = (5, 5, 5)\n",
    "tensor_ones = torch.ones(my_shape)\n",
    "tensor_rand = torch.rand(my_shape)\n",
    "tensor_zero = torch.zeros(my_shape)"
   ]
  },
  {
   "cell_type": "code",
   "execution_count": 14,
   "id": "477a27d5",
   "metadata": {},
   "outputs": [
    {
     "name": "stdout",
     "output_type": "stream",
     "text": [
      "Shape of Tensor:   torch.Size([5, 5, 5])\n",
      "Type of Tensor:    torch.float32\n",
      "Device of Tensor:  cpu\n"
     ]
    }
   ],
   "source": [
    "## tensors have attributes including shape, type, and storage device \n",
    "print(f\"Shape of Tensor:  \", tensor_ones.shape)\n",
    "print(f\"Type of Tensor:   \", tensor_ones.dtype)\n",
    "print(f\"Device of Tensor: \", tensor_ones.device)"
   ]
  },
  {
   "cell_type": "code",
   "execution_count": 22,
   "id": "4a484d6d",
   "metadata": {},
   "outputs": [
    {
     "data": {
      "text/plain": [
       "tensor([[ 5,  8],\n",
       "        [ 6,  9],\n",
       "        [ 7, 10]], dtype=torch.int32)"
      ]
     },
     "execution_count": 22,
     "metadata": {},
     "output_type": "execute_result"
    }
   ],
   "source": [
    "## pytorch supports over 100 different tensor operations! main ones include slicing, indexing, mathematical and linalg operations, etc. \n",
    "tensor_ones[:, 1, 1] = 0\n",
    "combined_tensor_ones = torch.concat([tensor_ones, tensor_ones], axis=0)\n",
    "element_wise_prod = tensor_data * tensor_data \n",
    "matmul_prod = tensor_data @ tensor_data.T\n",
    "\n",
    "## all in place operations have an underscore suffix \n",
    "tensor_data.add_(5)"
   ]
  },
  {
   "cell_type": "markdown",
   "id": "93f3cdef",
   "metadata": {},
   "source": [
    "#### **Autograd**\n",
    "\n",
    "`torch.autograd` is the automatic differentiation engine used by PyTorch to train neural networks. \n",
    "\n",
    "Automatic differentiation is a set of techniques used to evaluate the partial derivative of a function specified by a computer program. Differentiation through the use of a computer can typically be performed in one of three ways: \n",
    "\n",
    "- Symbolic: manipulation of mathematical expressions to produce exact derivatives. Typically impractical for complex, nested functions present in deep learning. \n",
    "- Numeric: approximates derivatives using finite diffences following the formal definition of a derivative (limit as $h\\rightarrow 0$). \n",
    "- AutoDiff: balances symboic and numeric methods by systematically applying the chain rule to elementary operations and functions. \n",
    "\n",
    "[Automatic Differentiation: A Brief Intro with Examples](https://towardsdatascience.com/automatic-differentiation-autodiff-a-brief-intro-with-examples-3f3d257ffe3b/)\n",
    "\n",
    "Recall that neural network training involves two main stages. Forward propagation directs input forward through the network to generate a prediction. Backward propagation computes the gradient of the loss function with respect to neural network parameters, propagating this gradient backward through the network one layer at a time. The gradient is used to update weight values during an iteration of gradient descent."
   ]
  },
  {
   "cell_type": "code",
   "execution_count": 29,
   "id": "8e8dbf28",
   "metadata": {},
   "outputs": [],
   "source": [
    "## create model + data\n",
    "model = resnet18(weights=ResNet18_Weights.DEFAULT)\n",
    "data = torch.rand(1, 3, 64, 64)   # one instance, 3 channels x 64 pixel height x 64 pixel width\n",
    "labels = torch.rand(1, 1000) \n",
    "\n",
    "## forward prop: generate prediction from model \n",
    "pred = model(data) \n",
    "\n",
    "## backward prop: compute loss, then use it to compute gradient + propagate backward through network \n",
    "loss = (pred - labels).sum()\n",
    "loss.backward() \n",
    "optim = torch.optim.SGD(model.parameters(), lr=1e-2, momentum=0.9)      # define optimization algorithm + register model parameters \n",
    "optim.step()  # take step in direction of negative gradient, according to optimization algorithm"
   ]
  },
  {
   "cell_type": "code",
   "execution_count": 34,
   "id": "a42bed2b",
   "metadata": {},
   "outputs": [
    {
     "name": "stdout",
     "output_type": "stream",
     "text": [
      "Gradient of a (should be 2a): tensor([4., 6.])\n",
      "Gradient of b (should be 1):    tensor([1., 1.])\n"
     ]
    }
   ],
   "source": [
    "## how does `autograd` collect gradients? \n",
    "a = torch.tensor([2., 3.], requires_grad=True)\n",
    "b = torch.tensor([6., 4.], requires_grad=True)\n",
    "\n",
    "f = a**2 + b \n",
    "\n",
    "## when we call backward on the function, qutograd calculates the gradients of the function with respect to the inputs, and stores them in the input tensors' grad attribute\n",
    "f.sum().backward()\n",
    "\n",
    "print(f\"Gradient of a (should be 2a): {a.grad}\") \n",
    "print(f\"Gradient of b (should be 1):    {b.grad}\")"
   ]
  },
  {
   "cell_type": "markdown",
   "id": "f2338ef4",
   "metadata": {},
   "source": [
    "Autograd uses a directed acyclic graph (DAG) to track the computations of a network - this is referred to as the computational graph of the network. Autograd uses the DAG to store gradients and propagate them backwards to leaf tensors. Autograd gracks operations on all tensors which have their `requires_grad` parameter set to `True`. Parameters that don't require gradients are called frozen parameters, and are particularly useful in transfer learning applications. Similar functionality can be achieved using the context manager `torch.no_grad()`. "
   ]
  },
  {
   "cell_type": "code",
   "execution_count": null,
   "id": "a03227ae",
   "metadata": {},
   "outputs": [],
   "source": [
    "model = resnet18(weights=ResNet18_Weights.DEFAULT)\n",
    "\n",
    "for param in model.parameters(): \n",
    "    param.requires_grad = False \n",
    "\n",
    "## finetune model on new dataset by re-training final (classifier) layer\n",
    "model.fc = nn.Linear(512, 10) \n",
    "optimizer = optim.SGD(model.parameters(), lr=1e-2, momentum=0.9)"
   ]
  },
  {
   "cell_type": "markdown",
   "id": "889a067f",
   "metadata": {},
   "source": [
    "#### **Neural Networks**\n",
    "\n",
    "The `torch.nn` module is used to construct neural networks, where `nn` depends on `autograd` to define models and differentiate them. "
   ]
  },
  {
   "cell_type": "code",
   "execution_count": 42,
   "id": "2790cf3f",
   "metadata": {},
   "outputs": [
    {
     "name": "stdout",
     "output_type": "stream",
     "text": [
      "Net(\n",
      "  (conv1): Conv2d(1, 6, kernel_size=(5, 5), stride=(1, 1))\n",
      "  (conv2): Conv2d(6, 16, kernel_size=(5, 5), stride=(1, 1))\n",
      "  (fc1): Linear(in_features=400, out_features=120, bias=True)\n",
      "  (fc2): Linear(in_features=120, out_features=84, bias=True)\n",
      "  (fc3): Linear(in_features=84, out_features=10, bias=True)\n",
      ")\n",
      "tensor([ 0.1240, -0.0502, -0.0246,  0.0376,  0.0214,  0.0218,  0.0901, -0.0148,\n",
      "        -0.0906,  0.0613], grad_fn=<ViewBackward0>)\n"
     ]
    }
   ],
   "source": [
    "class Net(nn.Module): \n",
    "\n",
    "    def __init__(self): \n",
    "        super(Net, self).__init__() \n",
    "\n",
    "        self.conv1 = nn.Conv2d(1, 6, 5)\n",
    "        self.conv2 = nn.Conv2d(6, 16, 5) \n",
    "\n",
    "        self.fc1 = nn.Linear(16 * 5 * 5, 120) \n",
    "        self.fc2 = nn.Linear(120, 84) \n",
    "        self.fc3 = nn.Linear(84, 10) \n",
    "\n",
    "    def forward(self, x): \n",
    "        \n",
    "        ## torch.nn.functional (F) provides stateless versions of functions included in torch.nn, such as max pooling / relu. \n",
    "        ## best practice is to apply operations without learnable parameters as stateless within forward method, and operations involving learnable parameters in constructor \n",
    "\n",
    "        c1 = F.relu(self.conv1(x)) \n",
    "        s2 = F.max_pool2d(c1, (2, 2))\n",
    "\n",
    "        c3 = F.relu(self.conv2(s2)) \n",
    "        s4 = F.max_pool2d(c3, 2)\n",
    "        s4 = torch.flatten(s4) \n",
    "\n",
    "        f5 = F.relu(self.fc1(s4))\n",
    "        f6 = F.relu(self.fc2(f5)) \n",
    "\n",
    "        output = self.fc3(f6) \n",
    "        return output \n",
    "\n",
    "## instantiate Net object \n",
    "model = Net() \n",
    "print(model)\n",
    "\n",
    "## send a random input through the network\n",
    "x = torch.rand(1, 1, 32, 32) \n",
    "pred = model(x) \n",
    "print(pred) \n",
    "\n",
    "## zero gradient buffers of all parameters \n",
    "model.zero_grad()"
   ]
  },
  {
   "cell_type": "code",
   "execution_count": 48,
   "id": "7274103b",
   "metadata": {},
   "outputs": [
    {
     "name": "stdout",
     "output_type": "stream",
     "text": [
      "tensor(1.5582, grad_fn=<MseLossBackward0>)\n",
      "<MseLossBackward0 object at 0x7f9dedd54e80>\n",
      "<ViewBackward0 object at 0x7f9dd7b5c3a0>\n"
     ]
    }
   ],
   "source": [
    "## loss fucntion is used to compute some measure of quality based on predictions and ground truth labels \n",
    "y = torch.randn(10)\n",
    "criterion = nn.MSELoss() \n",
    "\n",
    "loss = criterion(pred, y) \n",
    "print(loss)\n",
    "\n",
    "## can view computation graph via loss \n",
    "print(loss.grad_fn)\n",
    "print(loss.grad_fn.next_functions[0][0])"
   ]
  },
  {
   "cell_type": "code",
   "execution_count": 50,
   "id": "cecae7c1",
   "metadata": {},
   "outputs": [
    {
     "name": "stdout",
     "output_type": "stream",
     "text": [
      "conv1.bias.grad before backward: None\n",
      "conv1.bias.grad after backward:  tensor([-2.9742e-03,  1.7008e-02,  6.1005e-05, -2.9481e-03,  1.0804e-02,\n",
      "         3.1006e-03])\n"
     ]
    }
   ],
   "source": [
    "## to perform backprop, we need to 1) clear the existing gradients, and 2) call backward on our loss object \n",
    "model.zero_grad() \n",
    "print(f\"conv1.bias.grad before backward: {model.conv1.bias.grad}\")\n",
    "\n",
    "loss.backward() \n",
    "print(f\"conv1.bias.grad after backward:  {model.conv1.bias.grad}\") "
   ]
  },
  {
   "cell_type": "code",
   "execution_count": 54,
   "id": "19a39d1c",
   "metadata": {},
   "outputs": [],
   "source": [
    "## finally, we can update our weights using our chosen optimization algorithm \n",
    "optimizer = torch.optim.SGD(model.parameters(), lr=0.01) \n",
    "\n",
    "## in training loop... \n",
    "optimizer.zero_grad() \n",
    "output = model(x) \n",
    "loss = criterion(output, y) \n",
    "loss.backward() \n",
    "optimizer.step() "
   ]
  },
  {
   "cell_type": "markdown",
   "id": "93a3095c",
   "metadata": {},
   "source": [
    "#### **Training a Classifier**\n",
    "\n",
    "Now that we've defined all the setup components required for a neural network, we can actually train a real network on real data. We will train an image classifier on the CIFAR10 dataset.  \n",
    "\n",
    "Remember that neural network training involves the following key steps: \n",
    "1) Load and normalize data (CIFAR10 train + test). \n",
    "2) Define network (Convolutional Neural Network).\n",
    "3) Define a loss function. \n",
    "4) Train the network on the training data. \n",
    "5) Test the network on the test data. "
   ]
  },
  {
   "cell_type": "code",
   "execution_count": 59,
   "id": "c459a3cb",
   "metadata": {},
   "outputs": [
    {
     "data": {
      "image/png": "[encoded data removed]",
      "text/plain": [
       "<Figure size 640x480 with 1 Axes>"
      ]
     },
     "metadata": {},
     "output_type": "display_data"
    },
    {
     "name": "stdout",
     "output_type": "stream",
     "text": [
      "car   truck bird  horse\n"
     ]
    }
   ],
   "source": [
    "## step 1: load and normalize CIFAR10 data \n",
    "transform = transforms.Compose(\n",
    "    [transforms.ToTensor(), \n",
    "     transforms.Normalize((0.5, 0.5, 0.5), (0.5, 0.5, 0.5))]\n",
    ")\n",
    "\n",
    "batch_size = 4 \n",
    "\n",
    "train_set = torchvision.datasets.CIFAR10(root=\"./data\", train=True, download=True, transform=transform) \n",
    "train_loader = torch.utils.data.DataLoader(train_set, batch_size=batch_size, shuffle=True, num_workers=2)\n",
    "\n",
    "test_set = torchvision.datasets.CIFAR10(root=\"./data\", train=False, download=True, transform=transform) \n",
    "test_loader = torch.utils.data.DataLoader(test_set, batch_size=batch_size, shuffle=False, num_workers=True)\n",
    "\n",
    "classes = (\"plane\", \"car\", \"bird\", \"cat\", \"deer\", \"dog\", \"frog\", \"horse\", \"ship\", \"truck\") \n",
    "\n",
    "## display training image (for fun) \n",
    "def imshow(img): \n",
    "    img = img / 2 + 0.5 \n",
    "    npimg = img.numpy() \n",
    "    plt.imshow(np.transpose(npimg, (1, 2, 0)))\n",
    "    plt.show() \n",
    "\n",
    "data_iter = iter(train_loader) \n",
    "images, labels = next(data_iter) \n",
    "\n",
    "imshow(torchvision.utils.make_grid(images)) \n",
    "print(\" \".join(f\"{classes[labels[j]]:5s}\" for j in range(batch_size)))"
   ]
  },
  {
   "cell_type": "code",
   "execution_count": 68,
   "id": "bb5b7c79",
   "metadata": {},
   "outputs": [],
   "source": [
    "## step 2: define convolutional neural network \n",
    "class CNN(nn.Module): \n",
    "\n",
    "    def __init__(self): \n",
    "        super(CNN, self).__init__() \n",
    "\n",
    "        self.conv1 = nn.Conv2d(3, 6, 5) \n",
    "        self.pool = nn.MaxPool2d(2, 2) \n",
    "        self.conv2 = nn.Conv2d(6, 16, 5) \n",
    "        self.fc1 = nn.Linear(16 * 5 * 5, 120) \n",
    "        self.fc2 = nn.Linear(120, 84) \n",
    "        self.fc3 = nn.Linear(84, 10) \n",
    "\n",
    "\n",
    "    def forward(self, x): \n",
    "\n",
    "        x = self.pool(F.relu(self.conv1(x))) \n",
    "        x = self.pool(F.relu(self.conv2(x)))\n",
    "        x = torch.flatten(x, 1) \n",
    "        x = F.relu(self.fc1(x)) \n",
    "        x = F.relu(self.fc2(x)) \n",
    "        x = self.fc3(x) \n",
    "\n",
    "        return x\n",
    "    \n",
    "model = CNN()"
   ]
  },
  {
   "cell_type": "code",
   "execution_count": 69,
   "id": "c11d2e9f",
   "metadata": {},
   "outputs": [],
   "source": [
    "## step 3: define loss function + optimizer \n",
    "criterion = nn.CrossEntropyLoss() \n",
    "optimizer = torch.optim.SGD(model.parameters(), lr=0.001, momentum=0.9) "
   ]
  },
  {
   "cell_type": "code",
   "execution_count": 73,
   "id": "c7a854e7",
   "metadata": {},
   "outputs": [
    {
     "name": "stdout",
     "output_type": "stream",
     "text": [
      "[1,  2000] loss: 2.147\n",
      "[1,  4000] loss: 1.832\n",
      "[1,  6000] loss: 1.642\n",
      "[1,  8000] loss: 1.557\n",
      "[1, 10000] loss: 1.492\n",
      "[1, 12000] loss: 1.434\n",
      "[2,  2000] loss: 1.366\n",
      "[2,  4000] loss: 1.350\n",
      "[2,  6000] loss: 1.311\n",
      "[2,  8000] loss: 1.278\n",
      "[2, 10000] loss: 1.287\n",
      "[2, 12000] loss: 1.254\n"
     ]
    }
   ],
   "source": [
    "## step 4: train the network \n",
    "for epoch in range(2): \n",
    "\n",
    "    running_loss = 0 \n",
    "    for i, data in enumerate(train_loader, 0): \n",
    "\n",
    "        ## get batch of inputs \n",
    "        X, y = data \n",
    "\n",
    "        ## zero gradients from previous iteration \n",
    "        optimizer.zero_grad() \n",
    "\n",
    "        ## perform forward pass \n",
    "        pred = model(X) \n",
    "\n",
    "        ## perform backward pass \n",
    "        loss = criterion(pred, y) \n",
    "        loss.backward() \n",
    "        optimizer.step() \n",
    "\n",
    "        ## print statistics \n",
    "        running_loss += loss.item() \n",
    "        if i % 2000 == 1999:  \n",
    "            print(f'[{epoch + 1}, {i + 1:5d}] loss: {running_loss / 2000:.3f}')\n",
    "            running_loss = 0.0"
   ]
  },
  {
   "cell_type": "code",
   "execution_count": 75,
   "id": "21cc7684",
   "metadata": {},
   "outputs": [
    {
     "name": "stdout",
     "output_type": "stream",
     "text": [
      "Accuracy on Test Set: 56%\n"
     ]
    }
   ],
   "source": [
    "## step 5: evaluate model on test data \n",
    "correct = 0 \n",
    "total = 0 \n",
    "\n",
    "with torch.no_grad(): \n",
    "    for data in test_loader: \n",
    "        X, y = data \n",
    "        pred = model(X) \n",
    "        _, predicted = torch.max(pred, 1) \n",
    "        total += y.size(0) \n",
    "        correct += (predicted == y).sum().item()\n",
    "\n",
    "print(f\"Accuracy on Test Set: {100 * correct // total}%\")"
   ]
  },
  {
   "cell_type": "markdown",
   "id": "e69147c0",
   "metadata": {},
   "source": [
    "## **Part 2: Applying PyTorch to a Hugging Face Dataset**\n",
    "\n",
    "[Working with Hugging Face Datasets](https://huggingface.co/docs/datasets/en/tutorial)"
   ]
  },
  {
   "cell_type": "code",
   "execution_count": null,
   "id": "7e64ff2d",
   "metadata": {},
   "outputs": [],
   "source": []
  }
 ],
 "metadata": {
  "kernelspec": {
   "display_name": "dfdx",
   "language": "python",
   "name": "python3"
  },
  "language_info": {
   "codemirror_mode": {
    "name": "ipython",
    "version": 3
   },
   "file_extension": ".py",
   "mimetype": "text/x-python",
   "name": "python",
   "nbconvert_exporter": "python",
   "pygments_lexer": "ipython3",
   "version": "3.12.0"
  }
 },
 "nbformat": 4,
 "nbformat_minor": 5
}
