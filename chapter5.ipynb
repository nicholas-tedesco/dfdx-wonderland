{
 "cells": [
  {
   "cell_type": "markdown",
   "id": "f1e7cd6f",
   "metadata": {},
   "source": [
    "# **Differentiable Wonderland: Chapter 5**\n",
    "goal: reinforce material from Chapter 5 of Alice's Adventures in a Differentiable Wonderland by implementing PyTorch machine learning workflows. \n",
    "- CIFAR10 Image Classifier from Deep Learning with PyTorch: A 60 Minute Blitz\n",
    "- [choose HuggingFace dataset here]"
   ]
  },
  {
   "cell_type": "markdown",
   "id": "87065484",
   "metadata": {},
   "source": [
    "## **Part 1: Replicating a PyTorch Workflow**\n",
    "\n",
    "[Deep Learning with PyTorch: A 60 Minute Blitz](https://docs.pytorch.org/tutorials/beginner/deep_learning_60min_blitz.html)"
   ]
  },
  {
   "cell_type": "markdown",
   "id": "e69147c0",
   "metadata": {},
   "source": [
    "## **Part 2: Applying PyTorch to a Hugging Face Dataset**\n",
    "\n",
    "[Working with Hugging Face Datasets](https://huggingface.co/docs/datasets/en/tutorial)"
   ]
  }
 ],
 "metadata": {
  "kernelspec": {
   "display_name": "dfdx",
   "language": "python",
   "name": "python3"
  },
  "language_info": {
   "codemirror_mode": {
    "name": "ipython",
    "version": 3
   },
   "file_extension": ".py",
   "mimetype": "text/x-python",
   "name": "python",
   "nbconvert_exporter": "python",
   "pygments_lexer": "ipython3",
   "version": "3.13.0"
  }
 },
 "nbformat": 4,
 "nbformat_minor": 5
}
